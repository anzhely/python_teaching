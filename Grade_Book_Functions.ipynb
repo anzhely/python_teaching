{
  "nbformat": 4,
  "nbformat_minor": 0,
  "metadata": {
    "colab": {
      "provenance": []
    },
    "kernelspec": {
      "name": "python3",
      "display_name": "Python 3"
    },
    "language_info": {
      "name": "python"
    }
  },
  "cells": [
    {
      "cell_type": "markdown",
      "source": [
        "# Lesson: Building a Grade Evaluation Program"
      ],
      "metadata": {
        "id": "AXYjviBkNskp"
      }
    },
    {
      "cell_type": "markdown",
      "source": [
        "In this lesson, we will gradually build a Python program that evaluates a student's grade based on a score input. The program will start with a simple function to compute the grade, and over time we will add more features:\n",
        " - handle user input,\n",
        " - manage errors,\n",
        " - implement threshold flexibility\n",
        "\n",
        "This will not only help you practice writing functions but also teach you how to handle user input, interpret error messages, and create more interactive and dynamic programs."
      ],
      "metadata": {
        "id": "F0WlJZIoN5RV"
      }
    },
    {
      "cell_type": "markdown",
      "source": [
        "## Step 1: Starting with a Simple Function\n",
        "Let's begin by writing a basic function that takes a score as input and outputs a grade. For now, we will hardcode the score, and our function will return the grade based on fixed thresholds. This will allow us to understand the basic logic of computing grades.\n",
        "\n",
        "| **Score Range**      | **Grade** |\n",
        "|----------------------|-----------|\n",
        "| 0.9 ≤ score ≤ 1.0    | A         |\n",
        "| 0.8 ≤ score < 0.9    | B         |\n",
        "| 0.7 ≤ score < 0.8    | C         |\n",
        "| 0.6 ≤ score < 0.7    | D         |\n",
        "| 0.0 ≤ score < 0.6    | F         |\n"
      ],
      "metadata": {
        "id": "z65bZOLnONb9"
      }
    },
    {
      "cell_type": "code",
      "execution_count": 1,
      "metadata": {
        "id": "6gdw0c1kM7fO"
      },
      "outputs": [],
      "source": [
        "def computegrade(score):\n",
        "    \"\"\"Returns the letter grade as a string based on the numeric score.\"\"\"\n",
        "    # IMPLEMENT HERE\n",
        "    return"
      ]
    },
    {
      "cell_type": "code",
      "source": [
        "score = 0.9\n",
        "grade = computegrade(score)"
      ],
      "metadata": {
        "id": "6xLOZlgZM9o4"
      },
      "execution_count": 2,
      "outputs": []
    },
    {
      "cell_type": "code",
      "source": [
        "print(grade)"
      ],
      "metadata": {
        "colab": {
          "base_uri": "https://localhost:8080/"
        },
        "id": "tAfThxFZNLOi",
        "outputId": "ebc2ed5b-f567-4a92-c6e1-972a34a6cd0c"
      },
      "execution_count": 3,
      "outputs": [
        {
          "output_type": "stream",
          "name": "stdout",
          "text": [
            "A\n"
          ]
        }
      ]
    },
    {
      "cell_type": "markdown",
      "source": [
        "\n",
        "## Step 2: Making the Program Interactive\n",
        "Now, let’s make the program more interactive by asking the user to input a score instead of hardcoding it. This will make the program dynamic and allow users to test it with different scores.\n"
      ],
      "metadata": {
        "id": "Tcf3v71uM8Gi"
      }
    },
    {
      "cell_type": "code",
      "source": [
        "# IMPLEMENT HERE"
      ],
      "metadata": {
        "id": "8ZDE5v7jPZkK"
      },
      "execution_count": null,
      "outputs": []
    },
    {
      "cell_type": "markdown",
      "source": [
        "## Step 3: Handling Invalid Input\n",
        "At this point, the program assumes that the user will always enter a valid number. However, in real-life scenarios, users may make mistakes and input something that isn’t a valid number, like a word instead of a number.\n",
        "\n",
        "We need to handle these cases gracefully using Python's error handling features."
      ],
      "metadata": {
        "id": "huB8pFLKPbYF"
      }
    },
    {
      "cell_type": "code",
      "source": [
        "# IMPLEMENT HERE"
      ],
      "metadata": {
        "id": "o3eMrx0gPjnr"
      },
      "execution_count": null,
      "outputs": []
    },
    {
      "cell_type": "markdown",
      "source": [
        "## Step 4: Handling Out-of-Range Scores\n",
        "In addition to handling invalid inputs, we should also ensure that the score is within a valid range (0.0 to 1.0). If the score is out of this range, we should inform the user and handle it appropriately."
      ],
      "metadata": {
        "id": "y-HCAqrAPt7m"
      }
    },
    {
      "cell_type": "code",
      "source": [
        "# IMPLEMENT HERE"
      ],
      "metadata": {
        "id": "ajjAWrc5Ppxy"
      },
      "execution_count": null,
      "outputs": []
    },
    {
      "cell_type": "markdown",
      "source": [
        "## Step 5: Generalizing the Program with Thresholds\n",
        "Finally, we can generalize the program to allow flexible grade thresholds. This means the user can define what percentage corresponds to each grade, making the program adaptable to different grading systems."
      ],
      "metadata": {
        "id": "8B-JhtgyP6BA"
      }
    },
    {
      "cell_type": "code",
      "source": [
        "# IMPLEMENT HERE"
      ],
      "metadata": {
        "id": "jAqv1b9PQDYV"
      },
      "execution_count": null,
      "outputs": []
    },
    {
      "cell_type": "markdown",
      "source": [
        "## Conclusion\n",
        "Congratualtions! You have just built a Grade Evaluation Program from scratch, and along the way, you have learned and applied some really important concepts in Python programming. Let us quickly review what you have mastered:\n",
        "\n",
        "- **Creating Functions**: You have written a function to compute grades based on predefined score thresholds.\n",
        "- **Interactive Programs**: You have made your program interactive by asking the user for input, allowing it to adapt to any score they provide.\n",
        "- **Error Handling**: You have learned how to catch mistakes and gracefully handle invalid input using try-except blocks, ensuring that your program does not crash from common errors.\n",
        "- **Range Checking**: You have added extra logic to make sure the score is valid, preventing scores outside of the typical 0.0 to 1.0 range from causing problems.\n",
        "- **Flexible Grade Thresholds**: You have gone the extra mile by creating a system where you can easily modify the grade thresholds, making your program adaptable to different grading systems.\n",
        "\n",
        "By breaking down the problem into smaller steps and tackling one challenge at a time, you have mastered some really important programming skills. This is how you approach bigger projects in real-world coding! Keep practicing, and soon you will be building even more complex, interactive programs. You are well on your way to becoming a Python pro!\n",
        "\n",
        "Take a moment to celebrate how far you have come, and get ready to take your coding journey even further!"
      ],
      "metadata": {
        "id": "D-OOO25jQYcj"
      }
    },
    {
      "cell_type": "markdown",
      "source": [],
      "metadata": {
        "id": "a8kYmpJtQCU3"
      }
    }
  ]
}