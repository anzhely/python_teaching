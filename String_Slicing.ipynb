{
  "nbformat": 4,
  "nbformat_minor": 0,
  "metadata": {
    "colab": {
      "provenance": []
    },
    "kernelspec": {
      "name": "python3",
      "display_name": "Python 3"
    },
    "language_info": {
      "name": "python"
    }
  },
  "cells": [
    {
      "cell_type": "markdown",
      "source": [
        "# Lesson: String Slicing and Manipulation\n",
        "In many business applications, data is stored in text format. String slicing is useful for parsing and extracting key information from large blocks of text, especially when data is delimited by certain characters like commas, spaces, or specific symbols. In this lesson we explore a few examples."
      ],
      "metadata": {
        "id": "EK1bL-vNveyC"
      }
    },
    {
      "cell_type": "markdown",
      "source": [
        "## Review\n",
        "Let us start simple. In Python, a string is a sequence of characters, and you can extract a part of a string (called a substring) using slicing.\n",
        "\n",
        "The basic syntax is:\n",
        "\n",
        "`s[start:end:step]`\n",
        "\n",
        "- **start**: The index to start slicing (inclusive).\n",
        "- **end**: The index to end slicing (exclusive).\n",
        "- **step**: How many steps to skip between indices (optional).\n",
        "\n",
        "## Basic Examples"
      ],
      "metadata": {
        "id": "Qk9oTZKzwCAf"
      }
    },
    {
      "cell_type": "code",
      "source": [
        "date = \"2024-11-20\"\n",
        "year =   # extract year \"2024\"\n",
        "print(year)\n",
        "month =   # extract month \"11\"\n",
        "print(month)\n",
        "day =   # extract date \"20\"\n",
        "print(day)"
      ],
      "metadata": {
        "colab": {
          "base_uri": "https://localhost:8080/"
        },
        "id": "XPr5-ERcw5jn",
        "outputId": "263ea937-77ff-4cfc-c418-a892cafd79a6"
      },
      "execution_count": 1,
      "outputs": [
        {
          "output_type": "stream",
          "name": "stdout",
          "text": [
            "2024\n",
            "11\n",
            "20\n"
          ]
        }
      ]
    },
    {
      "cell_type": "code",
      "source": [
        "date = \"2024-11-20\"\n",
        "year =  # extract year \"2024\" using negative index\n",
        "print(year)\n",
        "month =   # extract month \"11\" using negative index\n",
        "print(month)\n",
        "day =   # extract date \"20\" using negative index\n",
        "print(day)"
      ],
      "metadata": {
        "colab": {
          "base_uri": "https://localhost:8080/"
        },
        "id": "MrydNe2YxNTo",
        "outputId": "04617bc7-8fa6-4af5-ff2f-d741a7859443"
      },
      "execution_count": 2,
      "outputs": [
        {
          "output_type": "stream",
          "name": "stdout",
          "text": [
            "2024\n",
            "11\n",
            "20\n"
          ]
        }
      ]
    },
    {
      "cell_type": "markdown",
      "source": [
        "## Strip Method\n",
        "Sometimes, when extracting data from a string, you may encounter unexpected extra spaces—these could appear before or after the actual content you're interested in. For example, a user may have added an extra space when entering their name into an intake form, which could cause issues later on when you try to process the data.\n",
        "\n",
        "To fix this, we can use the .strip() method. This method removes any leading (spaces before the text) and trailing (spaces after the text) whitespace from the string."
      ],
      "metadata": {
        "id": "nbEGFw1Lxos6"
      }
    },
    {
      "cell_type": "code",
      "source": [
        "name = \"   John Doe  \"\n",
        "clean_name = name.strip()\n",
        "print(name)\n",
        "print(clean_name)"
      ],
      "metadata": {
        "id": "CYxeXpwhv26w"
      },
      "execution_count": null,
      "outputs": []
    },
    {
      "cell_type": "markdown",
      "source": [
        "## Split Method\n",
        "In many cases, you may need to break down a string into smaller parts — this is where the split() method comes in handy. The split() method allows you to divide a string into multiple substrings based on a specified delimiter (a character or sequence of characters). This can be especially useful when you are dealing with structured text, like reviews, data records, or CSV files, where elements are separated by commas, spaces, or other characters."
      ],
      "metadata": {
        "id": "fBllJB-kyrZz"
      }
    },
    {
      "cell_type": "code",
      "source": [
        "row = \"John,Doe,35,Engineer\"\n",
        "name = row[:4]  # \"John\"\n",
        "print(name)\n",
        "age = row[9:11]  # \"35\"\n",
        "print(age)"
      ],
      "metadata": {
        "id": "AtXlU-ZOyrEO"
      },
      "execution_count": null,
      "outputs": []
    },
    {
      "cell_type": "code",
      "source": [
        "# USE SPLIT METHOD\n",
        "row = \"John,Doe,35,Engineer\"\n",
        "print(row)\n",
        "row_split = # put your code here\n",
        "print(row_split)"
      ],
      "metadata": {
        "colab": {
          "base_uri": "https://localhost:8080/"
        },
        "id": "C9chF7ddzARW",
        "outputId": "716f9aa1-9a18-43d8-906f-a3b8ed5f0bf0"
      },
      "execution_count": 6,
      "outputs": [
        {
          "output_type": "stream",
          "name": "stdout",
          "text": [
            "John,Doe,35,Engineer\n",
            "['John', 'Doe', '35', 'Engineer']\n"
          ]
        }
      ]
    },
    {
      "cell_type": "code",
      "source": [
        "name= # put your code here\n",
        "age= # put your code here\n",
        "print(age)"
      ],
      "metadata": {
        "colab": {
          "base_uri": "https://localhost:8080/"
        },
        "id": "gwr8xzXxzM-d",
        "outputId": "88b4abf6-7f0e-4ef3-f7ee-26866b24b6bd"
      },
      "execution_count": 7,
      "outputs": [
        {
          "output_type": "stream",
          "name": "stdout",
          "text": [
            "35\n"
          ]
        }
      ]
    },
    {
      "cell_type": "markdown",
      "source": [
        "## Putting It All Together\n",
        "You are working as a data analyst for a small business that collects customer reviews for their products. These reviews are stored in a string format, and the company wants to automatically generate a report that summarizes the review ratings, comments, and product feedback.\n",
        "\n",
        "Reviews often come in the follwoing format\n",
        "\n",
        "> Product: Wireless Mouse, Rating: 4.5/5, Comment: Great product!\n",
        "\n",
        "Write Python code to extract 4.5\n"
      ],
      "metadata": {
        "id": "CQha4JIpzmoG"
      }
    },
    {
      "cell_type": "code",
      "source": [
        "review = \"Product: Wireless Mouse, Rating: 4.5/5, Comment: Great product!\""
      ],
      "metadata": {
        "id": "y40o-qdp0NMF"
      },
      "execution_count": 10,
      "outputs": []
    },
    {
      "cell_type": "code",
      "source": [
        "# Implement Here"
      ],
      "metadata": {
        "colab": {
          "base_uri": "https://localhost:8080/"
        },
        "id": "V5u5lSwC0gRU",
        "outputId": "cc73066f-45bf-43d8-9658-c2b1f71505d5"
      },
      "execution_count": 21,
      "outputs": [
        {
          "output_type": "stream",
          "name": "stdout",
          "text": [
            "['Product: Wireless Mouse', ' Rating: 4.5/5', ' Comment: Great product!']\n",
            " Rating: 4.5/5\n",
            " 4.5/5\n",
            " 4.5\n"
          ]
        },
        {
          "output_type": "execute_result",
          "data": {
            "text/plain": [
              "True"
            ]
          },
          "metadata": {},
          "execution_count": 21
        }
      ]
    },
    {
      "cell_type": "markdown",
      "source": [
        "## Conclusion\n",
        "In this lesson, we have explored several important techniques for extracting useful information from strings, specifically in the context of date manipulation, text processing, and reviewing data. By learning how to slice, split, and clean up strings, you have gained the foundational skills needed to handle various forms of data effectively.\n",
        "\n",
        "These techniques are not just 'toy examples' but are extensively used 'in the field'.\n",
        "\n",
        "- **Date Processing**: Extracting and working with specific components of dates (such as year, month, or day).\n",
        "- **Text Parsing**: Whether you are analyzing product reviews, logs, or user input, being able to split, slice, and clean data allows you to extract actionable insights.\n",
        "- **Data Preprocessing**: Before performing calculations or storing data, it is important to clean up and break down the information into a usable format."
      ],
      "metadata": {
        "id": "YpWezzw014ew"
      }
    }
  ]
}